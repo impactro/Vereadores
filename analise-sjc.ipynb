{
 "cells": [
  {
   "cell_type": "code",
   "execution_count": null,
   "metadata": {},
   "outputs": [],
   "source": [
    "# https://servicos.sjc.sp.gov.br/portal_da_transparencia/contas_publicas.aspx?tipo=0\n",
    "# https://servicos.sjc.sp.gov.br/portal_da_transparencia/balancete_receita.aspx\n",
    "# https://portal.camarasjc.sp.gov.br/cmsjc/websis/portal_transparencia/financeiro/contas_publicas/index.php?consulta=../lei_acesso/lai_remuneracoes\n",
    "# https://camarasempapel.camarasjc.sp.gov.br/sessao-parlamentares.aspx?id=2301\n",
    "\n"
   ]
  }
 ],
 "metadata": {
  "language_info": {
   "name": "python"
  },
  "orig_nbformat": 4
 },
 "nbformat": 4,
 "nbformat_minor": 2
}
