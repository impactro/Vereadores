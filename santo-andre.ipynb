{
 "cells": [
  {
   "cell_type": "code",
   "execution_count": 2,
   "metadata": {},
   "outputs": [
    {
     "data": {
      "text/plain": [
       "'Ano: 2023 - Período: 2023/08\\nSecretaria:;Qtde.;Salário Base/Subsídios:;Salário Líquido:;\\nCHEFIA DE GABINETE;42;R$ 315.998,37;R$ 339.756,32;\\nGABINETE DO VICE-PREFEITO;13;R$ 92.933,86;R$ 84.169,60;\\nNUCLEO DE INOVACAO SOCIAL;18;R$ 115.755,42;R$ 90.782,09;\\nOUVIDORIA;9;R$ 52.033,98;R$ 39.809,74;\\nSECRETARIA DA PESSOA COM DEFICIENCIA;3;R$ 20.684,92;R$ 15.102,59;\\nSECRETARIA DE ASSISTENCIA SOCIAL;12;R$ 48.952,40;R$ 43.214,59;\\nSECRETARIA DE ASSUNTOS JURIDICOS;135;R$ 735.733,01;R$ 798.843,93;\\nSECRETARIA DE CIDADANIA E ASSISTENCIA SOCIAL;151;R$ 623.604,80;R$ 629.336,75;\\nSECRETARIA DE COMUNICACAO;32;R$ 211.818,72;R$ 214.931,58;\\nSECRETARIA DE CULTURA;122;R$ 482.233,00;R$ 674.746,03;\\nSECRETARIA DE DESENVOLVIMENTO E GERACAO DE EMPREGO;60;R$ 287.274,90;R$ 362.559,88;\\nSECRETARIA DE EDUCACAO;5508;R$ 20.132.918,44;R$ 19.131.625,58;\\nSECRETARIA DE ESPORTE E PRATICA ESPORTIVA;119;R$ 600.533,05;R$ 732.894,03;\\nSECRETARIA DE GESTAO FINANCEIRA;121;R$ 689.856,14;R$ 769.263,77;\\nSECRETARIA DE HABITACAO E REGULARIZACAO FUNDIARIA;63;R$ 358.730,37;R$ 358.773,36;\\nSECRETARIA DE INFRAESTRUTURA E SERVICOS URBANOS;6;R$ 39.490,20;R$ 39.594,20;\\nSECRETARIA DE INOVACAO E ADMINISTRACAO;448;R$ 1.557.092,71;R$ 1.780.702,44;\\nSECRETARIA DE MANUTENCAO E SERVICOS URBANOS;688;R$ 2.133.952,77;R$ 2.903.753,46;\\nSECRETARIA DE MEIO AMBIENTE;201;R$ 574.755,59;R$ 756.030,66;\\nSECRETARIA DE MOBILIDADE URBANA;195;R$ 918.078,46;R$ 1.320.287,04;\\nSECRETARIA DE PLANEJAMENTO ESTRATEGICO E LICENCIAMENTOS;113;R$ 838.919,01;R$ 794.010,97;\\nSECRETARIA DE SAUDE;1044;R$ 3.710.479,10;R$ 4.870.899,25;\\nSECRETARIA DE SEGURANCA CIDADA;573;R$ 2.165.712,23;R$ 3.053.642,25;\\nUNIDADE DE ASSUNTOS INSTITUCIONAIS E COMUNITARIOS;85;R$ 555.396,56;R$ 439.928,20;\\nUNIDADE DE CERIMONIAL, EVENTOS E LAZER;24;R$ 137.431,19;R$ 177.402,90;\\nUNIDADE DE PLANEJAMENTO E ASSUNTOS ESTRATEGICOS;1;R$ 6.740,15;R$ 7.693,79;\\nUNIDADE DE PROJETOS ESPECIAIS;2;R$ 16.308,33;R$ 12.104,03;\\nTotal:;9788;R$ 37.423.417,68;R$ 40.441.859,03;\\n'"
      ]
     },
     "execution_count": 2,
     "metadata": {},
     "output_type": "execute_result"
    }
   ],
   "source": [
    "from webLib import textFromURLorFile\n",
    "\n",
    "url = 'https://www.santoandre.sp.gov.br/transparencia/wp_psa_folha_v3/geradorcsv.php?num_ano=2023&num_mes=08'\n",
    "texto = textFromURLorFile(url, \"dados-sa-202308.csv\")\n",
    "texto"
   ]
  }
 ],
 "metadata": {
  "kernelspec": {
   "display_name": "Python 3",
   "language": "python",
   "name": "python3"
  },
  "language_info": {
   "codemirror_mode": {
    "name": "ipython",
    "version": 3
   },
   "file_extension": ".py",
   "mimetype": "text/x-python",
   "name": "python",
   "nbconvert_exporter": "python",
   "pygments_lexer": "ipython3",
   "version": "3.9.0"
  },
  "orig_nbformat": 4
 },
 "nbformat": 4,
 "nbformat_minor": 2
}
